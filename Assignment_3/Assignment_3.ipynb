{
 "cells": [
  {
   "cell_type": "code",
   "execution_count": 2,
   "metadata": {},
   "outputs": [
    {
     "name": "stdout",
     "output_type": "stream",
     "text": [
      "0.0303030303030303\n"
     ]
    }
   ],
   "source": [
    "#1 Question\n",
    "a=11/36\n",
    "b=6/36\n",
    "c=2/36\n",
    "def probabilities(a,b,c):\n",
    "    d=(c)*(b)\n",
    "    print(d/a)\n",
    "probabilities(a,b,c)"
   ]
  },
  {
   "cell_type": "code",
   "execution_count": 3,
   "metadata": {},
   "outputs": [
    {
     "name": "stdout",
     "output_type": "stream",
     "text": [
      "0.5666666666666667\n"
     ]
    }
   ],
   "source": [
    "#2 Question\n",
    "#let b be the probabilty of getting black ball\n",
    "#b1 prob from bag1\n",
    "#b2 prob from bag2\n",
    "#By using Bayes theroem\n",
    "#p(b1/b)=(p(b/b1)*p(b1))/p(b)\n",
    "print(((6/10)*(1/2))/(9/17))"
   ]
  },
  {
   "cell_type": "code",
   "execution_count": 4,
   "metadata": {},
   "outputs": [
    {
     "name": "stdout",
     "output_type": "stream",
     "text": [
      "0.6666666666666666\n"
     ]
    }
   ],
   "source": [
    "#3 Question\n",
    "print(((1/6)*(2/3))/(1/6))"
   ]
  }
 ],
 "metadata": {
  "kernelspec": {
   "display_name": "Python 3",
   "language": "python",
   "name": "python3"
  },
  "language_info": {
   "codemirror_mode": {
    "name": "ipython",
    "version": 3
   },
   "file_extension": ".py",
   "mimetype": "text/x-python",
   "name": "python",
   "nbconvert_exporter": "python",
   "pygments_lexer": "ipython3",
   "version": "3.6.5"
  }
 },
 "nbformat": 4,
 "nbformat_minor": 2
}
